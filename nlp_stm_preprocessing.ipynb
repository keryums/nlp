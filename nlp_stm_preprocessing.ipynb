{
 "cells": [
  {
   "cell_type": "code",
   "execution_count": 102,
   "metadata": {
    "ExecuteTime": {
     "end_time": "2018-06-27T05:40:12.027863Z",
     "start_time": "2018-06-27T05:40:11.140908Z"
    }
   },
   "outputs": [],
   "source": [
    "import pandas as pd\n",
    "import numpy as np\n",
    "from vaderSentiment.vaderSentiment import SentimentIntensityAnalyzer\n",
    "from textblob import TextBlob"
   ]
  },
  {
   "cell_type": "code",
   "execution_count": 48,
   "metadata": {
    "ExecuteTime": {
     "end_time": "2018-06-27T05:11:41.919959Z",
     "start_time": "2018-06-27T05:11:41.917339Z"
    }
   },
   "outputs": [],
   "source": [
    "path = '/Users/booranium/usf/622_dataviz/project/'"
   ]
  },
  {
   "cell_type": "code",
   "execution_count": 23,
   "metadata": {
    "ExecuteTime": {
     "end_time": "2018-06-27T04:51:31.393161Z",
     "start_time": "2018-06-27T04:51:31.389970Z"
    }
   },
   "outputs": [],
   "source": [
    "# functions from Prof. McCauley for reading JSON files \n",
    "def parse(path):\n",
    "    g = open(path, 'rb')\n",
    "    for l in g:\n",
    "        yield eval(l)\n",
    "\n",
    "def getDF(path):\n",
    "    i = 0\n",
    "    df = {}\n",
    "    for d in parse(path):\n",
    "        df[i] = d\n",
    "        i += 1\n",
    "    return pd.DataFrame.from_dict(df, orient='index')"
   ]
  },
  {
   "cell_type": "code",
   "execution_count": 53,
   "metadata": {
    "ExecuteTime": {
     "end_time": "2018-06-27T05:13:32.278379Z",
     "start_time": "2018-06-27T05:13:06.890283Z"
    }
   },
   "outputs": [],
   "source": [
    "reviews = getDF(path + 'reviews_Digital_Music_5.json')\n",
    "metadata = getDF(path + 'meta_Digital_Music.json')"
   ]
  },
  {
   "cell_type": "markdown",
   "metadata": {},
   "source": [
    "# Data Prep"
   ]
  },
  {
   "cell_type": "markdown",
   "metadata": {},
   "source": [
    "## Clean up Metadata"
   ]
  },
  {
   "cell_type": "code",
   "execution_count": 56,
   "metadata": {
    "ExecuteTime": {
     "end_time": "2018-06-27T05:15:14.486742Z",
     "start_time": "2018-06-27T05:15:13.971862Z"
    }
   },
   "outputs": [],
   "source": [
    "# clean up weird list of list categories\n",
    "metadata.categories = metadata.categories.apply(lambda x: [val for sublist in x for val in sublist]).apply(lambda x: ', '.join(x))"
   ]
  },
  {
   "cell_type": "code",
   "execution_count": 57,
   "metadata": {
    "ExecuteTime": {
     "end_time": "2018-06-27T05:15:14.585998Z",
     "start_time": "2018-06-27T05:15:14.581844Z"
    }
   },
   "outputs": [],
   "source": [
    "def try_split_2(string):\n",
    "    ls = string.split(',')\n",
    "    try:\n",
    "        return ls[1].strip()\n",
    "    except:\n",
    "        pass\n",
    "    \n",
    "\n",
    "def try_split_3(string):\n",
    "    ls = string.split(',')\n",
    "    try:\n",
    "        return ls[2].strip()\n",
    "    except:\n",
    "        pass\n",
    "    \n",
    "def try_split_4(string):\n",
    "    ls = string.split(',')\n",
    "    try:\n",
    "        return ls[3].strip()\n",
    "    except:\n",
    "        pass    \n",
    "\n",
    "def try_split_5(string):\n",
    "    ls = string.split(',')\n",
    "    try:\n",
    "        return ls[4].strip()\n",
    "    except:\n",
    "        pass\n",
    "\n",
    "def try_split_6(string):\n",
    "    ls = string.split(',')\n",
    "    try:\n",
    "        return ls[5].strip()\n",
    "    except:\n",
    "        pass  \n",
    "\n",
    "def try_split_7(string):\n",
    "    ls = string.split(',')\n",
    "    try:\n",
    "        return ls[6].strip()\n",
    "    except:\n",
    "        pass"
   ]
  },
  {
   "cell_type": "code",
   "execution_count": 59,
   "metadata": {
    "ExecuteTime": {
     "end_time": "2018-06-27T05:15:21.834047Z",
     "start_time": "2018-06-27T05:15:20.608319Z"
    }
   },
   "outputs": [],
   "source": [
    "# split out concatenated categories\n",
    "metadata['cat1'] = metadata.categories.apply(lambda x: x.split(',')[0])\n",
    "metadata['cat2'] = metadata.categories.apply(try_split_2)\n",
    "metadata['cat3'] = metadata.categories.apply(try_split_3)\n",
    "metadata['cat4'] = metadata.categories.apply(try_split_4)\n",
    "metadata['cat5'] = metadata.categories.apply(try_split_5)\n",
    "metadata['cat6'] = metadata.categories.apply(try_split_6)\n",
    "metadata['cat7'] = metadata.categories.apply(try_split_7)"
   ]
  },
  {
   "cell_type": "code",
   "execution_count": 61,
   "metadata": {
    "ExecuteTime": {
     "end_time": "2018-06-27T05:16:17.918428Z",
     "start_time": "2018-06-27T05:16:17.861216Z"
    }
   },
   "outputs": [
    {
     "data": {
      "text/plain": [
       "array(['CDs & Vinyl', 'Digital Music', 'Beauty', 'Arts', 'Baby Products'],\n",
       "      dtype=object)"
      ]
     },
     "execution_count": 61,
     "metadata": {},
     "output_type": "execute_result"
    }
   ],
   "source": [
    "# Notice there are some random categories of products \n",
    "metadata.cat1.unique()"
   ]
  },
  {
   "cell_type": "code",
   "execution_count": 69,
   "metadata": {
    "ExecuteTime": {
     "end_time": "2018-06-27T05:19:11.003319Z",
     "start_time": "2018-06-27T05:19:10.884851Z"
    }
   },
   "outputs": [],
   "source": [
    "# filter to music-related products\n",
    "metadata = metadata[metadata.cat1.isin(['CDs & Vinyl', 'Digital Music'])]"
   ]
  },
  {
   "cell_type": "code",
   "execution_count": 79,
   "metadata": {
    "ExecuteTime": {
     "end_time": "2018-06-27T05:21:26.813177Z",
     "start_time": "2018-06-27T05:21:26.464131Z"
    },
    "scrolled": true
   },
   "outputs": [],
   "source": [
    "# filter to reviews for these products only\n",
    "reviews = reviews.merge(pd.DataFrame(metadata.asin.unique()).rename(columns = {0 : 'asin'}))"
   ]
  },
  {
   "cell_type": "markdown",
   "metadata": {},
   "source": [
    "## Feature Engineering on Reviews"
   ]
  },
  {
   "cell_type": "markdown",
   "metadata": {},
   "source": [
    "Remove missing reviews"
   ]
  },
  {
   "cell_type": "code",
   "execution_count": 195,
   "metadata": {
    "ExecuteTime": {
     "end_time": "2018-06-27T17:57:26.326181Z",
     "start_time": "2018-06-27T17:57:26.212327Z"
    }
   },
   "outputs": [],
   "source": [
    "reviews = reviews[pd.isnull(reviews) == False]"
   ]
  },
  {
   "cell_type": "code",
   "execution_count": 193,
   "metadata": {
    "ExecuteTime": {
     "end_time": "2018-06-27T17:56:45.873538Z",
     "start_time": "2018-06-27T17:56:45.846350Z"
    }
   },
   "outputs": [],
   "source": [
    "reviews = reviews[~(reviews.reviewText == '')]"
   ]
  },
  {
   "cell_type": "markdown",
   "metadata": {},
   "source": [
    "### Add review year"
   ]
  },
  {
   "cell_type": "code",
   "execution_count": 179,
   "metadata": {
    "ExecuteTime": {
     "end_time": "2018-06-27T17:44:45.195772Z",
     "start_time": "2018-06-27T17:44:45.144639Z"
    }
   },
   "outputs": [],
   "source": [
    "reviews['reviewYear'] = reviews.reviewTime.apply(lambda x: x.split(',')[1])"
   ]
  },
  {
   "cell_type": "markdown",
   "metadata": {},
   "source": [
    "### Add review sentiment"
   ]
  },
  {
   "cell_type": "markdown",
   "metadata": {},
   "source": [
    "Vader"
   ]
  },
  {
   "cell_type": "code",
   "execution_count": 100,
   "metadata": {
    "ExecuteTime": {
     "end_time": "2018-06-27T05:33:11.641075Z",
     "start_time": "2018-06-27T05:33:11.623727Z"
    }
   },
   "outputs": [],
   "source": [
    "analyser = SentimentIntensityAnalyzer()"
   ]
  },
  {
   "cell_type": "code",
   "execution_count": 101,
   "metadata": {
    "ExecuteTime": {
     "end_time": "2018-06-27T05:40:11.020274Z",
     "start_time": "2018-06-27T05:33:30.669753Z"
    }
   },
   "outputs": [],
   "source": [
    "reviews['sent_vader'] = reviews.reviewText.apply(lambda x : analyser.polarity_scores(x)['compound'])"
   ]
  },
  {
   "cell_type": "code",
   "execution_count": 146,
   "metadata": {
    "ExecuteTime": {
     "end_time": "2018-06-27T17:27:33.901696Z",
     "start_time": "2018-06-27T17:27:28.940805Z"
    }
   },
   "outputs": [],
   "source": [
    "reviews['sent_vader_summary'] = reviews.summary.apply(lambda x : analyser.polarity_scores(x)['compound'])"
   ]
  },
  {
   "cell_type": "markdown",
   "metadata": {},
   "source": [
    "TextBlob - using PatternAnalyzer from Pattern library"
   ]
  },
  {
   "cell_type": "code",
   "execution_count": 104,
   "metadata": {
    "ExecuteTime": {
     "end_time": "2018-06-27T05:42:23.146555Z",
     "start_time": "2018-06-27T05:40:51.259912Z"
    }
   },
   "outputs": [],
   "source": [
    "reviews['sent_blob'] = reviews.reviewText.apply(lambda x: TextBlob(x).sentiment[0])"
   ]
  },
  {
   "cell_type": "code",
   "execution_count": 147,
   "metadata": {
    "ExecuteTime": {
     "end_time": "2018-06-27T17:28:02.494978Z",
     "start_time": "2018-06-27T17:27:38.923849Z"
    }
   },
   "outputs": [],
   "source": [
    "reviews['sent_blob_summary'] = reviews.summary.apply(lambda x: TextBlob(x).sentiment[0])"
   ]
  },
  {
   "cell_type": "markdown",
   "metadata": {},
   "source": [
    "Take Average"
   ]
  },
  {
   "cell_type": "code",
   "execution_count": 157,
   "metadata": {
    "ExecuteTime": {
     "end_time": "2018-06-27T17:33:33.440009Z",
     "start_time": "2018-06-27T17:33:28.724097Z"
    }
   },
   "outputs": [],
   "source": [
    "reviews['sent_mean'] = reviews[['sent_vader', 'sent_blob', 'sent_vader_summary', 'sent_blob_summary']].apply(np.mean, axis = 1)"
   ]
  },
  {
   "cell_type": "code",
   "execution_count": 159,
   "metadata": {
    "ExecuteTime": {
     "end_time": "2018-06-27T17:34:05.247226Z",
     "start_time": "2018-06-27T17:34:05.244572Z"
    }
   },
   "outputs": [],
   "source": [
    "def get_sign(x):\n",
    "    if x >= 0:\n",
    "        return 1\n",
    "    else: \n",
    "        return 0"
   ]
  },
  {
   "cell_type": "code",
   "execution_count": 160,
   "metadata": {
    "ExecuteTime": {
     "end_time": "2018-06-27T17:34:20.810714Z",
     "start_time": "2018-06-27T17:34:20.784430Z"
    }
   },
   "outputs": [],
   "source": [
    "reviews['sent_sign'] = reviews.sent_mean.apply(get_sign)"
   ]
  },
  {
   "cell_type": "markdown",
   "metadata": {},
   "source": [
    "### Add review helpfulness score"
   ]
  },
  {
   "cell_type": "code",
   "execution_count": 163,
   "metadata": {
    "ExecuteTime": {
     "end_time": "2018-06-27T17:35:22.961999Z",
     "start_time": "2018-06-27T17:35:22.896242Z"
    }
   },
   "outputs": [],
   "source": [
    "reviews['helpful_1'] = reviews.helpful.apply(lambda x: x[0])\n",
    "reviews['helpful_2'] = reviews.helpful.apply(lambda x: x[1])"
   ]
  },
  {
   "cell_type": "code",
   "execution_count": 174,
   "metadata": {
    "ExecuteTime": {
     "end_time": "2018-06-27T17:43:04.355358Z",
     "start_time": "2018-06-27T17:43:04.352946Z"
    }
   },
   "outputs": [],
   "source": [
    "def get_prop(x):\n",
    "    if x[1] == 0:\n",
    "        return 0\n",
    "    else: \n",
    "        return x[0]/x[1]"
   ]
  },
  {
   "cell_type": "code",
   "execution_count": 177,
   "metadata": {
    "ExecuteTime": {
     "end_time": "2018-06-27T17:43:57.374022Z",
     "start_time": "2018-06-27T17:43:55.802378Z"
    }
   },
   "outputs": [],
   "source": [
    "reviews['helpful_prop'] = reviews[['helpful_1', 'helpful_2']].apply(get_prop, axis = 1)"
   ]
  },
  {
   "cell_type": "markdown",
   "metadata": {
    "ExecuteTime": {
     "end_time": "2018-06-27T17:46:48.323000Z",
     "start_time": "2018-06-27T17:46:48.307394Z"
    }
   },
   "source": [
    "Write out data to csv for analysis in R "
   ]
  },
  {
   "cell_type": "code",
   "execution_count": 207,
   "metadata": {
    "ExecuteTime": {
     "end_time": "2018-06-27T18:17:07.652475Z",
     "start_time": "2018-06-27T18:17:06.117103Z"
    }
   },
   "outputs": [],
   "source": [
    "reviews[['reviewText', 'sent_sign', 'helpful_prop', 'overall', 'reviewYear']].to_csv('../data/reviews_clean', sep = '|')"
   ]
  },
  {
   "cell_type": "code",
   "execution_count": 222,
   "metadata": {
    "ExecuteTime": {
     "end_time": "2018-06-28T06:01:52.990185Z",
     "start_time": "2018-06-28T06:01:52.976849Z"
    }
   },
   "outputs": [
    {
     "data": {
      "text/html": [
       "<div>\n",
       "<style scoped>\n",
       "    .dataframe tbody tr th:only-of-type {\n",
       "        vertical-align: middle;\n",
       "    }\n",
       "\n",
       "    .dataframe tbody tr th {\n",
       "        vertical-align: top;\n",
       "    }\n",
       "\n",
       "    .dataframe thead th {\n",
       "        text-align: right;\n",
       "    }\n",
       "</style>\n",
       "<table border=\"1\" class=\"dataframe\">\n",
       "  <thead>\n",
       "    <tr style=\"text-align: right;\">\n",
       "      <th></th>\n",
       "      <th>review_text</th>\n",
       "      <th>product_rating</th>\n",
       "      <th>review_year</th>\n",
       "    </tr>\n",
       "  </thead>\n",
       "  <tbody>\n",
       "    <tr>\n",
       "      <th>0</th>\n",
       "      <td>It's hard to believe \"Memory of Trees\" came ou...</td>\n",
       "      <td>5.0</td>\n",
       "      <td>2006</td>\n",
       "    </tr>\n",
       "    <tr>\n",
       "      <th>1</th>\n",
       "      <td>A clasically-styled and introverted album, Mem...</td>\n",
       "      <td>5.0</td>\n",
       "      <td>2001</td>\n",
       "    </tr>\n",
       "    <tr>\n",
       "      <th>2</th>\n",
       "      <td>I never thought Enya would reach the sublime h...</td>\n",
       "      <td>5.0</td>\n",
       "      <td>2003</td>\n",
       "    </tr>\n",
       "    <tr>\n",
       "      <th>3</th>\n",
       "      <td>This is the third review of an irish album I w...</td>\n",
       "      <td>5.0</td>\n",
       "      <td>2000</td>\n",
       "    </tr>\n",
       "    <tr>\n",
       "      <th>4</th>\n",
       "      <td>Enya, despite being a successful recording art...</td>\n",
       "      <td>4.0</td>\n",
       "      <td>2008</td>\n",
       "    </tr>\n",
       "  </tbody>\n",
       "</table>\n",
       "</div>"
      ],
      "text/plain": [
       "                                         review_text  product_rating  \\\n",
       "0  It's hard to believe \"Memory of Trees\" came ou...             5.0   \n",
       "1  A clasically-styled and introverted album, Mem...             5.0   \n",
       "2  I never thought Enya would reach the sublime h...             5.0   \n",
       "3  This is the third review of an irish album I w...             5.0   \n",
       "4  Enya, despite being a successful recording art...             4.0   \n",
       "\n",
       "  review_year  \n",
       "0        2006  \n",
       "1        2001  \n",
       "2        2003  \n",
       "3        2000  \n",
       "4        2008  "
      ]
     },
     "execution_count": 222,
     "metadata": {},
     "output_type": "execute_result"
    }
   ],
   "source": [
    "reviews[['reviewText', 'overall', 'reviewYear']].head().rename(columns = {'reviewText': 'review_text', 'overall': 'product_rating', 'reviewYear' : 'review_year'})"
   ]
  },
  {
   "cell_type": "code",
   "execution_count": null,
   "metadata": {},
   "outputs": [],
   "source": []
  }
 ],
 "metadata": {
  "kernelspec": {
   "display_name": "Python 3",
   "language": "python",
   "name": "python3"
  },
  "language_info": {
   "codemirror_mode": {
    "name": "ipython",
    "version": 3
   },
   "file_extension": ".py",
   "mimetype": "text/x-python",
   "name": "python",
   "nbconvert_exporter": "python",
   "pygments_lexer": "ipython3",
   "version": "3.6.5"
  },
  "toc": {
   "nav_menu": {},
   "number_sections": true,
   "sideBar": true,
   "skip_h1_title": false,
   "title_cell": "Table of Contents",
   "title_sidebar": "Contents",
   "toc_cell": false,
   "toc_position": {
    "height": "calc(100% - 180px)",
    "left": "10px",
    "top": "150px",
    "width": "360px"
   },
   "toc_section_display": true,
   "toc_window_display": true
  },
  "varInspector": {
   "cols": {
    "lenName": 16,
    "lenType": 16,
    "lenVar": 40
   },
   "kernels_config": {
    "python": {
     "delete_cmd_postfix": "",
     "delete_cmd_prefix": "del ",
     "library": "var_list.py",
     "varRefreshCmd": "print(var_dic_list())"
    },
    "r": {
     "delete_cmd_postfix": ") ",
     "delete_cmd_prefix": "rm(",
     "library": "var_list.r",
     "varRefreshCmd": "cat(var_dic_list()) "
    }
   },
   "types_to_exclude": [
    "module",
    "function",
    "builtin_function_or_method",
    "instance",
    "_Feature"
   ],
   "window_display": false
  }
 },
 "nbformat": 4,
 "nbformat_minor": 2
}
